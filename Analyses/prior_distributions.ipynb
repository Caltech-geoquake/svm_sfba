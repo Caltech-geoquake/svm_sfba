{
 "cells": [
  {
   "cell_type": "markdown",
   "id": "9ed2e933",
   "metadata": {},
   "source": [
    "# Visualization of Prior Distributions\n",
    "\n",
    "The selection of appropriate prior distributions is an integral part of any Bayesian regression. This notebook is intended to help the modeler with the selection of an appropriate distribution family and parameter values for the different model components.\n",
    "\n"
   ]
  },
  {
   "cell_type": "code",
   "execution_count": 1,
   "id": "c5eaf521",
   "metadata": {
    "jupyter": {
     "source_hidden": true
    },
    "tags": []
   },
   "outputs": [
    {
     "name": "stderr",
     "output_type": "stream",
     "text": [
      "/home/glavrent/anaconda3/envs/python_3.9cmdstan/lib/python3.9/site-packages/jupyter_client/session.py:718: UserWarning: Message serialization failed with:\n",
      "Out of range float values are not JSON compliant\n",
      "Supporting this message is deprecated in jupyter-client 7, please make sure your message is JSON-compliant\n",
      "  content = self.pack(content)\n"
     ]
    }
   ],
   "source": [
    "## Load packages\n",
    "#general\n",
    "import os\n",
    "import sys\n",
    "import pathlib\n",
    "from time import sleep\n",
    "#arithmetic libraries\n",
    "import numpy as np\n",
    "from scipy import stats\n",
    "#statistics libraries\n",
    "import pandas as pd\n",
    "#plot libraries\n",
    "#%matplotlib widget\n",
    "import matplotlib as mpl\n",
    "import matplotlib.pyplot as plt\n",
    "from matplotlib.ticker import FormatStrFormatter\n",
    "from IPython.display import clear_output\n",
    "#jupyter widgets\n",
    "import ipywidgets as widgets\n",
    "\n",
    "#user functions\n",
    "#-----------------------\n",
    "def calc_percentile_lims(tot_prc):\n",
    "    '''Compute upper and lower percentile limits'''\n",
    "    lprc = (1-tot_prc)/2\n",
    "    uprc = 1-lprc\n",
    "    return (lprc, uprc)\n",
    "\n",
    "#plot single prior distribution\n",
    "def plot_prior(dist_nane, x_pdf,y_pdf, x_prc, y_prc,\n",
    "                          x_lim=[-10,10], y_lim=[0,2],\n",
    "                          x_user=np.nan,\n",
    "                          x_name='x'):\n",
    "    '''Plot prior distributions, percentile range, and user values'''\n",
    "    \n",
    "    #create figure\n",
    "    fig, ax = plt.subplots(figsize = (6,6))   \n",
    "    ax.plot(x_pdf,y_pdf, color='black', linewidth=2, label=dist_nane)\n",
    "    ax.fill_between(x_prc, 0, y_prc, label='Percentile Interval')\n",
    "    if not np.isnan(x_user).all():\n",
    "        ax.vlines(x_user,0,y_lim[1], linestyle='--', linewidth=2.5, \n",
    "                  color='red', label='User value')\n",
    "    #edit figure\n",
    "    ax.set_xlabel(x_name, fontsize=15)\n",
    "    ax.set_ylabel('pdf',  fontsize=15)\n",
    "    ax.grid(which='both')\n",
    "    ax.tick_params(axis='x', labelsize=12)\n",
    "    ax.tick_params(axis='y', labelsize=12)\n",
    "    ax.legend(loc='upper left', fontsize=15)\n",
    "    #plot limits\n",
    "    ax.set_xlim(x_lim)\n",
    "    ax.set_ylim(y_lim)\n",
    "    fig.tight_layout()   \n",
    "\n",
    "    \n",
    "#plot two related prior distributions\n",
    "def plot_prior2(dist1_nane, dist2_nane,\n",
    "                x1_pdf, y1_pdf, x1_prc, y1_prc,\n",
    "                x2_pdf, y2_pdf, x2_prc, y2_prc,\n",
    "                x1_lim=[-10,10], y1_lim=[0,2],\n",
    "                x2_lim=[-10,10], y2_lim=[0,2],\n",
    "                x1_user=np.nan,\n",
    "                x2_user=np.nan,\n",
    "                x1_name='x1', x2_name='x2'):\n",
    "    '''Plot prior distributions, percentile range, and user values'''\n",
    "    \n",
    "    #create figure\n",
    "    fig, ax = plt.subplots(nrows=1, ncols=2, figsize = (12,6))   \n",
    "    #first subfigure\n",
    "    ax[0].plot(x1_pdf,y1_pdf, color='black', linewidth=2, label=dist1_nane)\n",
    "    ax[0].fill_between(x1_prc, 0, y1_prc, label='Percentile Interval')\n",
    "    if not np.isnan(x1_user).all():\n",
    "        ax[0].vlines(x1_user,0,y1_lim[1], linestyle='--', linewidth=2.5, \n",
    "                     color='red', label='User value')\n",
    "    #edit figure\n",
    "    ax[0].set_xlabel(x1_name, fontsize=15)\n",
    "    ax[0].set_ylabel('pdf',   fontsize=15)\n",
    "    ax[0].grid(which='both')\n",
    "    ax[0].tick_params(axis='x', labelsize=12)\n",
    "    ax[0].tick_params(axis='y', labelsize=12)\n",
    "    ax[0].legend(loc='upper left',  fontsize=15)\n",
    "    #plot limits\n",
    "    ax[0].set_xlim(x1_lim)\n",
    "    ax[0].set_ylim(y1_lim)\n",
    "    #second subfigure\n",
    "    ax[1].plot(x2_pdf,y2_pdf, color='black', linewidth=2, label=dist2_nane)\n",
    "    ax[1].fill_between(x2_prc, 0, y2_prc, label='Percentile Interval')\n",
    "    if not np.isnan(x2_user).all():\n",
    "        ax[1].vlines(x2_user,0,y2_lim[1], linestyle='--', linewidth=2.5, \n",
    "                     color='red', label='User value')\n",
    "    #edit figure\n",
    "    ax[1].set_xlabel(x2_name, fontsize=15)\n",
    "    ax[1].set_ylabel('pdf',   fontsize=15)\n",
    "    ax[1].grid(which='both')\n",
    "    ax[1].tick_params(axis='x', labelsize=12)\n",
    "    ax[1].tick_params(axis='y', labelsize=12)\n",
    "    ax[1].legend(loc='upper left',  fontsize=15)\n",
    "    #plot limits\n",
    "    ax[1].set_xlim(x2_lim)\n",
    "    ax[1].set_ylim(y2_lim)\n",
    "    fig.tight_layout()   \n",
    "\n",
    "\n",
    "#plot kernel function\n",
    "def plot_kernel(kern_nane, x_pdf, y_pdf, z_pdf, \n",
    "                           x_lim=[-100,100], y_lim=[-100,100], z_lim=[0,0.25],\n",
    "                           x_name='X', y_name='Y'):\n",
    "    '''Plot prior distributions, percentile range, and user values'''\n",
    "    \n",
    "    #create figure\n",
    "    fig = plt.figure(figsize = (6,6))\n",
    "    ax = plt.axes(projection='3d')\n",
    "    ax.plot_surface(x_pdf, y_pdf, z_pdf, cmap=cm.coolwarm)\n",
    "    #edit figure\n",
    "    ax.set_xlabel(x_name, fontsize=15)\n",
    "    ax.set_ylabel(y_name, fontsize=15)\n",
    "    ax.set_zlabel('pdf',  fontsize=15)\n",
    "    ax.tick_params(axis='x', labelsize=12)\n",
    "    ax.tick_params(axis='z', labelsize=12)\n",
    "    ax.tick_params(axis='y', labelsize=12)\n",
    "    #plot limits\n",
    "    ax.set_xlim(x_lim)\n",
    "    ax.set_ylim(y_lim)\n",
    "    ax.set_zlim(z_lim)\n",
    "    fig.tight_layout()   \n",
    "    \n",
    "#interactive buttons\n",
    "#-----------------------\n",
    "#distribution percentile\n",
    "slide_prc = widgets.IntSlider(min=1, max=99, value=95, step=1, layout=widgets.Layout(width='400px'), \n",
    "                                description='prcntl (%)')\n",
    "#user input\n",
    "text_usr = widgets.BoundedFloatText(value=np.nan, description='user value:', layout=widgets.Layout(width='200px'))"
   ]
  },
  {
   "cell_type": "markdown",
   "id": "bd18acf4",
   "metadata": {},
   "source": [
    "### Normal distribution\n",
    "\n",
    "The probability density function of a normal distribution is given by:\n",
    "$$\n",
    "f(x|\\mu,\\sigma) = \\frac{1}{\\sigma \\sqrt{2 \\pi}} e^{-\\frac{1}{2} \\left(\\frac{x-\\mu}{\\sigma}\\right)^2}\n",
    "$$\n",
    "where the distribution parameters are the mean ($\\mu$) and  standard deviation ($\\sigma$) which control the location the width of the distribution, respectively.\n",
    "The mean is defined on the entire the real line ($\\mu \\in (-\\infty,+\\infty)$) while the standard deviation is defined on the positive side ($\\sigma > 0$).\n",
    "The support of the normal distribution is $x \\in (-\\infty,+\\infty)$."
   ]
  },
  {
   "cell_type": "code",
   "execution_count": 2,
   "id": "1ff8b658",
   "metadata": {
    "jupyter": {
     "source_hidden": true
    },
    "tags": []
   },
   "outputs": [
    {
     "data": {
      "application/vnd.jupyter.widget-view+json": {
       "model_id": "b3fce8ba550845508cdc0362f3387ffa",
       "version_major": 2,
       "version_minor": 0
      },
      "text/plain": [
       "interactive(children=(FloatSlider(value=0.0, description='mu', layout=Layout(width='400px'), max=5.0, min=-5.0…"
      ]
     },
     "metadata": {},
     "output_type": "display_data"
    }
   ],
   "source": [
    "#distribution parameters\n",
    "slide_mu  = widgets.FloatSlider(min=-5, max=5,  value=0, step=0.05, layout=widgets.Layout(width='400px'), \n",
    "                                description='mu')\n",
    "slide_sig = widgets.FloatSlider(min=0,  max=10, value=1, step=0.05, layout=widgets.Layout(width='400px'), \n",
    "                                description='sigma')\n",
    "\n",
    "#widget for normal distribution\n",
    "@widgets.interact(mu=slide_mu,sigma=slide_sig,prc=slide_prc,usr=text_usr )\n",
    "def normal_prior(mu=0,sigma=1,prc=0.95,usr=1):\n",
    "    #percentile decimal\n",
    "    prc = prc/100\n",
    "    #pdf\n",
    "    x = np.linspace(-10,10,1000)\n",
    "    y = stats.norm.pdf(x,mu,sigma)\n",
    "    #selected percentile range\n",
    "    x_int = stats.norm.interval(prc,mu,sigma)\n",
    "    x_prc = np.linspace(x_int[0],x_int[1],1000)\n",
    "    y_prc = stats.norm.pdf(x_prc,mu,sigma)\n",
    "    #plot distribution\n",
    "    plot_prior('Normal Distribution',x,y,x_prc,y_prc,\n",
    "               [-10,10],[0,1],usr,x_name=r'$x$')\n",
    "    sleep(0.1)\n",
    "    clear_output(wait=True)"
   ]
  },
  {
   "cell_type": "markdown",
   "id": "89850f1c",
   "metadata": {},
   "source": [
    "### Lognormal distribution\n",
    "The probability density function of a log-normal distribution is:\n",
    "$$\n",
    "f(x|\\mu_L,\\sigma_L) = \\frac{1}{x ~\\sigma_L \\sqrt{2 \\pi}} e^{-\\frac{1}{2} \\left(\\frac{\\ln(x)-\\mu_L}{\\sigma_L}\\right)^2}\n",
    "$$\n",
    "Similar to the normal distribution the mean ($\\mu_L$) primarily controls the location, and standard deviation ($\\sigma_L$) controls the width of the distribution. \n",
    "The distribution parameters are defined in: $\\mu_L \\in (-\\infty,-\\infty)$ and $\\sigma_L > 0$"
   ]
  },
  {
   "cell_type": "code",
   "execution_count": 3,
   "id": "a79a751c",
   "metadata": {
    "jupyter": {
     "source_hidden": true
    },
    "tags": []
   },
   "outputs": [
    {
     "data": {
      "application/vnd.jupyter.widget-view+json": {
       "model_id": "038f767623b24f7dbf687a6f33984ef8",
       "version_major": 2,
       "version_minor": 0
      },
      "text/plain": [
       "interactive(children=(FloatSlider(value=0.0, description='mu_L', layout=Layout(width='400px'), max=10.0, min=-…"
      ]
     },
     "metadata": {},
     "output_type": "display_data"
    }
   ],
   "source": [
    "#distribution parameters\n",
    "slide_mu  = widgets.FloatSlider(min=-5, max=10,  value=0, step=0.05, layout=widgets.Layout(width='400px'), \n",
    "                                description='mu_L')\n",
    "slide_sig = widgets.FloatSlider(min=0,  max=10, value=1, step=0.05, layout=widgets.Layout(width='400px'), \n",
    "                                description='sigma_L')\n",
    "slide_uplim = widgets.FloatSlider(min=0,  max=1000, value=10, step=1, layout=widgets.Layout(width='400px'), \n",
    "                                description='x_lim')\n",
    "\n",
    "#widget for log-normal distribution\n",
    "@widgets.interact(mu=slide_mu,sigma=slide_sig,prc=slide_prc, x_lim=slide_uplim, usr=text_usr)\n",
    "def lognormal_prior(mu=0,sigma=1,prc=0.95,x_lim=5,usr=1):\n",
    "    #percentile decimal\n",
    "    prc = prc/100\n",
    "    #covert to arithmetic scale\n",
    "    mu = np.exp(mu)\n",
    "    #pdf\n",
    "    x = np.linspace(0.001,x_lim,10000)\n",
    "    y = stats.lognorm.pdf(x,scale=mu,s=sigma)\n",
    "    #selected percentile range\n",
    "    x_int = stats.lognorm.interval(prc,scale=mu,s=sigma)\n",
    "    x_prc = np.linspace(x_int[0],x_int[1],1000)\n",
    "    y_prc = stats.lognorm.pdf(x_prc,scale=mu,s=sigma)\n",
    "    #plot distribution\n",
    "    plot_prior('Log-Normal Distribution',x,y,x_prc,y_prc,\n",
    "               [0,x_lim],[0,0.14/(0.01*x_lim)],usr,x_name=r'$x$')"
   ]
  },
  {
   "cell_type": "markdown",
   "id": "dd4669f3",
   "metadata": {},
   "source": [
    "### Exponential distribution\n",
    "The probability density function of an exponential distribution is given by:\n",
    "$$\n",
    "f(x|\\lambda) = \\lambda e^{-\\lambda x}\n",
    "$$\n",
    "The rate ($\\lambda$) must be a positive number ($\\lambda > 0$)."
   ]
  },
  {
   "cell_type": "code",
   "execution_count": 4,
   "id": "aa12372a",
   "metadata": {
    "jupyter": {
     "source_hidden": true
    }
   },
   "outputs": [
    {
     "data": {
      "application/vnd.jupyter.widget-view+json": {
       "model_id": "b9213c0734874ec4bc8770cd5254296e",
       "version_major": 2,
       "version_minor": 0
      },
      "text/plain": [
       "interactive(children=(FloatSlider(value=1.0, description='lambda', layout=Layout(width='400px'), max=5.0, min=…"
      ]
     },
     "metadata": {},
     "output_type": "display_data"
    }
   ],
   "source": [
    "#distribution parameters\n",
    "slide_lambda  = widgets.FloatSlider(min=0.05, max=5,  value=1, step=0.05, layout=widgets.Layout(width='400px'), \n",
    "                                    description='lambda')\n",
    "\n",
    "#widget for exponential distribution\n",
    "@widgets.interact(rate=slide_lambda,prc=slide_prc,usr=text_usr )\n",
    "def expon_prior(rate=1,prc=0.95,usr=1):\n",
    "    #percentile decimal\n",
    "    prc = prc/100\n",
    "    #pdf\n",
    "    x = np.linspace(0.001,20,10000)\n",
    "    y = stats.expon.pdf(x,scale=1/rate)\n",
    "    #selected percentile range\n",
    "    x_int = stats.expon.interval(prc,scale=1/rate)\n",
    "    x_prc = np.linspace(x_int[0],x_int[1],1000)\n",
    "    y_prc = stats.expon.pdf(x_prc,scale=1/rate)\n",
    "    #plot distribution\n",
    "    plot_prior('Exponential Distribution',x,y,x_prc,y_prc,\n",
    "               [0,5],[0,1.4],usr,x_name=r'$\\sigma$')"
   ]
  },
  {
   "cell_type": "markdown",
   "id": "1e7a7240-ce93-4b49-9a84-b6b5f76ebe92",
   "metadata": {},
   "source": [
    "### Beta distribution\n",
    "\n",
    "The probability density function of a Gamma distribution is given by:\n",
    "$$\n",
    "f(x|\\alpha,\\beta) = \\frac{x^{\\alpha-1} (1-x)^{\\beta-1}}{B(\\alpha,\\beta)}\n",
    "$$\n",
    "It is defined in terms the shape ($\\alpha$) and rate ($\\beta$) parameters, both of which should be positive. \n",
    "The support of the eta distribution is the positive side of the real line ($x > 0$)."
   ]
  },
  {
   "cell_type": "code",
   "execution_count": null,
   "id": "821d4315-46cf-4df1-b894-6f8c52ad0bba",
   "metadata": {},
   "outputs": [],
   "source": []
  },
  {
   "cell_type": "markdown",
   "id": "210681a3",
   "metadata": {},
   "source": [
    "### Gamma distribution\n",
    "\n",
    "The probability density function of a Gamma distribution is given by:\n",
    "$$\n",
    "f(x|\\alpha,\\beta) = \\frac{\\beta^\\alpha}{\\Gamma(\\alpha)} x^{\\alpha-1} e^{\\left(-\\beta x\\right)} \n",
    "$$\n",
    "It is defined in terms the shape ($\\alpha$) and rate ($\\beta$) parameters, both of which should be positive. \n",
    "The support of the Gamma distribution is the positive side of the real line ($x > 0$)."
   ]
  },
  {
   "cell_type": "code",
   "execution_count": 5,
   "id": "b9992ea3",
   "metadata": {
    "jupyter": {
     "source_hidden": true
    },
    "tags": []
   },
   "outputs": [
    {
     "data": {
      "application/vnd.jupyter.widget-view+json": {
       "model_id": "08caa34211b64d32b831601b23829ea2",
       "version_major": 2,
       "version_minor": 0
      },
      "text/plain": [
       "interactive(children=(FloatSlider(value=5.0, description='alpha', layout=Layout(width='400px'), max=10.0, min=…"
      ]
     },
     "metadata": {},
     "output_type": "display_data"
    }
   ],
   "source": [
    "#distribution parameters\n",
    "slide_alpha = widgets.FloatSlider(min=0.05, max=10, value=5.0,   step=0.05, layout=widgets.Layout(width='400px'), \n",
    "                                  description='alpha')\n",
    "slide_beta  = widgets.FloatSlider(min=0.01, max=2,  value=0.5, step=0.01, layout=widgets.Layout(width='400px'), \n",
    "                                  description='beta')\n",
    "\n",
    "#widget for inverse gamma distribution\n",
    "@widgets.interact(alpha=slide_alpha,beta=slide_beta,prc=slide_prc,usr=text_usr )\n",
    "def gamma_prior(alpha=5,beta=0.5,prc=0.95,usr=1):\n",
    "    #inverse gamma\n",
    "    #percentile decimal\n",
    "    prc = prc/100\n",
    "    #pdf\n",
    "    x1 = np.linspace(0.001,20,10000)\n",
    "    y1 = stats.gamma.pdf(x1,a=alpha,scale=1/beta)\n",
    "    #selected percentile range\n",
    "    x1_int = stats.gamma.interval(prc,a=alpha,scale=1/beta)\n",
    "    x1_prc = np.linspace(x1_int[0],x1_int[1],1000)\n",
    "    y1_prc = stats.gamma.pdf(x1_prc,a=alpha,scale=1/beta)\n",
    "    #gamma\n",
    "    #pdf\n",
    "    x2 = 1/x1\n",
    "    y2 = stats.invgamma.pdf(x2,a=alpha,scale=beta)\n",
    "    #selected percentile range\n",
    "    x2_int = stats.invgamma.interval(prc,a=alpha,scale=beta)\n",
    "    x2_prc = np.linspace(x2_int[0],x2_int[1],1000)\n",
    "    y2_prc = stats.invgamma.pdf(x2_prc,a=alpha,scale=beta)\n",
    "    #plot distribution\n",
    "    plot_prior2('Gamma Distribution','Inverse-Gamma Distribution',\n",
    "                x1,y1,x1_prc,y1_prc,\n",
    "                x2,y2,x2_prc,y2_prc,\n",
    "                [0,20],[0,1.4],\n",
    "                [0,5],[0,1.4],\n",
    "                usr,1/usr,\n",
    "                r'$\\tau$',r'$\\sigma^2=1/\\tau$')\n",
    "    "
   ]
  },
  {
   "cell_type": "markdown",
   "id": "52ec2fbe",
   "metadata": {},
   "source": [
    "### Inverse Gamma distribution\n",
    "\n",
    "The probability density function of an inverse Gamma distribution is:\n",
    "\n",
    "$$\n",
    "f(x|\\alpha,\\beta) = \\frac{\\beta^\\alpha}{\\Gamma(\\alpha)} x^{-\\alpha-1} e^{\\left(-\\frac{\\beta}{x}\\right)} \n",
    "$$\n",
    "\n",
    "The shape ($\\alpha$) and rate ($\\beta$) parameters should be positive. "
   ]
  },
  {
   "cell_type": "code",
   "execution_count": 6,
   "id": "22e0a657",
   "metadata": {
    "jupyter": {
     "source_hidden": true
    },
    "tags": []
   },
   "outputs": [
    {
     "data": {
      "application/vnd.jupyter.widget-view+json": {
       "model_id": "97a35dc93129491fb9f7b0dc142148df",
       "version_major": 2,
       "version_minor": 0
      },
      "text/plain": [
       "interactive(children=(FloatSlider(value=2.0, description='alpha', layout=Layout(width='400px'), max=4.0, min=0…"
      ]
     },
     "metadata": {},
     "output_type": "display_data"
    }
   ],
   "source": [
    "#distribution parameters\n",
    "slide_alpha = widgets.FloatSlider(min=0.05, max=4,   value=2, step=0.05, layout=widgets.Layout(width='400px'), \n",
    "                                  description='alpha')\n",
    "slide_beta  = widgets.FloatSlider(min=0.05, max=100, value=50, step=0.05, layout=widgets.Layout(width='400px'), \n",
    "                                  description='beta')\n",
    "\n",
    "#widget for inverse gamma distribution\n",
    "@widgets.interact(alpha=slide_alpha,beta=slide_beta,prc=slide_prc,usr=text_usr )\n",
    "def invgamma_prior(alpha=2,beta=50,prc=0.95,usr=1):\n",
    "    #percentile decimal\n",
    "    prc = prc/100\n",
    "    #pdf\n",
    "    x = np.linspace(0.001,250,10000)\n",
    "    y = stats.invgamma.pdf(x,a=alpha,scale=beta)\n",
    "    #selected percentile range\n",
    "    x_int = stats.invgamma.interval(prc,a=alpha,scale=beta)\n",
    "    x_prc = np.linspace(x_int[0],x_int[1],1000)\n",
    "    y_prc = stats.invgamma.pdf(x_prc,a=alpha,scale=beta)\n",
    "    #plot distribution\n",
    "    plot_prior('Inverse Gamma Distribution',x,y,x_prc,y_prc,\n",
    "               [0,250],[0,0.05],usr)"
   ]
  },
  {
   "cell_type": "markdown",
   "id": "aad0e482",
   "metadata": {},
   "source": [
    "## Kernel Functions\n",
    "\n",
    "The role of the kernel function in a Gaussian Process regression is to specify the correlation structure of the model terms. More commonly, the correlation structure refers to the spatial correlation of the varying coefficients. The selection of the kernel function controls the smoothness and continuity of the model coefficients. \n"
   ]
  },
  {
   "cell_type": "code",
   "execution_count": 7,
   "id": "137ef222",
   "metadata": {
    "tags": []
   },
   "outputs": [],
   "source": [
    "from matplotlib import cm\n",
    "from sklearn.gaussian_process.kernels import Matern \n",
    "\n",
    "\n",
    "#kernel functions\n",
    "ExpKernel    = lambda omega, ell,     dist: omega**2 * np.exp(-dist/ell)\n",
    "SqExpKernel  = lambda omega, ell,     dist: omega**2 * np.exp(-dist**2/ell**2)\n",
    "MaternKernel = lambda omega, ell, nu, dist: omega**2 * Matern(nu=nu, length_scale=ell)(0, dist.ravel()[:, np.newaxis]).reshape(dist.shape)"
   ]
  },
  {
   "cell_type": "markdown",
   "id": "e46c1893",
   "metadata": {},
   "source": [
    "### Exponential Kernel Function\n",
    "\n",
    "The exponential kernel function results in a continuous but non-smooth spatial variability. It is defined as:\n",
    "\n",
    "$$\n",
    "\\kappa(\\vec{t},\\vec{t}') = \\omega^2 \\exp \\left( - \\frac{||\\vec{t}-\\vec{t}'||}{\\ell} \\right)\n",
    "$$\n",
    "\n",
    "$\\kappa(\\vec{t},\\vec{t}')$ is the covarinace between the $\\vec{t}$ and $\\vec{t}'$ pairs of coordinates. The scale $\\omega$ controls the size of the variability, and the correlation lenght $\\ell$ controls the lenght scale of the spatial variation. Both $\\omega$ and $\\ell$ must be positive.\n"
   ]
  },
  {
   "cell_type": "code",
   "execution_count": 8,
   "id": "baf7d5ae",
   "metadata": {
    "jupyter": {
     "source_hidden": true
    }
   },
   "outputs": [
    {
     "data": {
      "application/vnd.jupyter.widget-view+json": {
       "model_id": "5fad33170b874e858156b7eb8aeefb75",
       "version_major": 2,
       "version_minor": 0
      },
      "text/plain": [
       "interactive(children=(FloatSlider(value=0.3, description='omega', layout=Layout(width='400px'), max=2.0, min=0…"
      ]
     },
     "metadata": {},
     "output_type": "display_data"
    }
   ],
   "source": [
    "#distribution parameters\n",
    "slide_omega = widgets.FloatSlider(min=0.01, max=2,   value=0.3, step=0.05, layout=widgets.Layout(width='400px'), \n",
    "                                  description=f'omega')\n",
    "slide_ell   = widgets.FloatSlider(min=1, max=100, value=50, step=1, layout=widgets.Layout(width='400px'), \n",
    "                                  description='ell')\n",
    "\n",
    "#widget for inverse gamma distribution\n",
    "@widgets.interact(omega=slide_omega,ell=slide_ell)\n",
    "def exp_kernel(omega=2,ell=50):\n",
    "    #pdf\n",
    "    X = np.arange(-100, 100, 0.25)\n",
    "    Y = np.arange(-100, 100, 0.25)\n",
    "    X, Y = np.meshgrid(X, Y)\n",
    "    dist = np.sqrt(X**2 + Y**2)\n",
    "    Z = ExpKernel(omega, ell, dist)\n",
    "    plot_kernel('Exponential', X, Y, Z) "
   ]
  },
  {
   "cell_type": "markdown",
   "id": "e26cd72a",
   "metadata": {},
   "source": [
    "### Squared-Exponential Kernel Function\n",
    "\n",
    "The squared-exponential kernel function results in a continuous and smooth (infinitely differentiable) spatial variability. It is defined as:\n",
    "\n",
    "$$\n",
    "\\kappa(\\vec{t},\\vec{t}') = \\omega^2 \\exp \\left( - \\frac{||\\vec{t}-\\vec{t}'||^2}{\\ell^2} \\right)\n",
    "$$\n",
    "\n",
    "Similary to the exponential kernel function, the scale ($\\omega$) and correlation lenght ($\\ell$) control the size and length scale of the variability."
   ]
  },
  {
   "cell_type": "code",
   "execution_count": 9,
   "id": "b2dff32e",
   "metadata": {
    "jupyter": {
     "source_hidden": true
    },
    "tags": []
   },
   "outputs": [
    {
     "data": {
      "application/vnd.jupyter.widget-view+json": {
       "model_id": "dee35348573047fbb54d059f61eaf59d",
       "version_major": 2,
       "version_minor": 0
      },
      "text/plain": [
       "interactive(children=(FloatSlider(value=0.3, description='omega', layout=Layout(width='400px'), max=2.0, min=0…"
      ]
     },
     "metadata": {},
     "output_type": "display_data"
    }
   ],
   "source": [
    "#distribution parameters\n",
    "slide_omega = widgets.FloatSlider(min=0.01, max=2,   value=0.3, step=0.05, layout=widgets.Layout(width='400px'), \n",
    "                                  description=f'omega')\n",
    "slide_ell   = widgets.FloatSlider(min=1, max=100, value=50, step=1, layout=widgets.Layout(width='400px'), \n",
    "                                  description='ell')\n",
    "\n",
    "#widget for inverse gamma distribution\n",
    "@widgets.interact(omega=slide_omega,ell=slide_ell)\n",
    "def sqexp_kernel(omega=2,ell=50):\n",
    "    #pdf\n",
    "    X = np.arange(-100, 100, 0.25)\n",
    "    Y = np.arange(-100, 100, 0.25)\n",
    "    X, Y = np.meshgrid(X, Y)\n",
    "    dist = np.sqrt(X**2 + Y**2)\n",
    "    Z = SqExpKernel(omega, ell, dist)\n",
    "    plot_kernel('Squared Exponential', X, Y, Z) "
   ]
  },
  {
   "cell_type": "markdown",
   "id": "cb74f916",
   "metadata": {},
   "source": [
    "### Matern Kernel Function\n",
    "\n",
    "The Matern kernel function is a generalization of the exponential and squared exponential cases. It is defined as:\n",
    "\n",
    "$$\n",
    "\\kappa(\\vec{t},\\vec{t}') = \\frac{ \\omega^2 }{ 2^{\\nu-1} \\Gamma(\\nu) } \\left( \\frac{ \\sqrt{2 \\nu}}{\\ell} ||\\vec{t}-\\vec{t}'|| \\right)^\\nu  \n",
    "K \\left( \\frac{ \\sqrt{2 \\nu}}{\\ell} ||\\vec{t}-\\vec{t}'|| \\right) \n",
    "$$\n",
    "\n",
    "$\\Gamma(...)$ is a Gamma function, and $K(...)$ is a modifed Bessel function. \n",
    "$\\nu$ controls the smoothness of the spatial variability; when it approaches zero ($\\nu \\rightarrow 0^+$), the Matern kernel function converges to an exponential kernel function, while when it approaches infinity ($\\nu \\rightarrow +\\infty$), the Matern kernel function converges to a squared exponential kernel function. \n",
    "The scale ($\\omega$) and correlation length ($\\ell$) control the size and length scale of the variability."
   ]
  },
  {
   "cell_type": "code",
   "execution_count": 10,
   "id": "c46a47b2",
   "metadata": {
    "jupyter": {
     "source_hidden": true
    },
    "tags": []
   },
   "outputs": [
    {
     "data": {
      "application/vnd.jupyter.widget-view+json": {
       "model_id": "b27253b45811429ca8d9bba8bddbeffe",
       "version_major": 2,
       "version_minor": 0
      },
      "text/plain": [
       "interactive(children=(FloatSlider(value=0.3, description='omega', layout=Layout(width='400px'), max=2.0, min=0…"
      ]
     },
     "metadata": {},
     "output_type": "display_data"
    }
   ],
   "source": [
    "#distribution parameters\n",
    "slide_omega = widgets.FloatSlider(min=0.01, max=2,   value=0.3, step=0.05, layout=widgets.Layout(width='400px'), \n",
    "                                  description=f'omega')\n",
    "slide_ell   = widgets.FloatSlider(min=1, max=100, value=50, step=1, layout=widgets.Layout(width='400px'), \n",
    "                                  description='ell')\n",
    "slide_nu    = widgets.FloatSlider(min=0.5, max=5, value=2, step=0.1, layout=widgets.Layout(width='400px'), \n",
    "                                  description='nu')\n",
    "\n",
    "#widget for inverse gamma distribution\n",
    "@widgets.interact(omega=slide_omega,ell=slide_ell,nu=slide_nu)\n",
    "def matern_kernel(omega=2,ell=50, nu=2.5):\n",
    "    #pdf\n",
    "    X = np.arange(-100, 100, 0.25)\n",
    "    Y = np.arange(-100, 100, 0.25)\n",
    "    X, Y = np.meshgrid(X, Y)\n",
    "    dist = np.sqrt(X**2 + Y**2)\n",
    "    Z = MaternKernel(omega, ell, nu, dist)\n",
    "    plot_kernel('Matern', X, Y, Z) "
   ]
  }
 ],
 "metadata": {
  "kernelspec": {
   "display_name": "Python 3 (ipykernel)",
   "language": "python",
   "name": "python3"
  },
  "language_info": {
   "codemirror_mode": {
    "name": "ipython",
    "version": 3
   },
   "file_extension": ".py",
   "mimetype": "text/x-python",
   "name": "python",
   "nbconvert_exporter": "python",
   "pygments_lexer": "ipython3",
   "version": "3.9.13"
  }
 },
 "nbformat": 4,
 "nbformat_minor": 5
}
